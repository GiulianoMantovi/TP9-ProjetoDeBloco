{
 "cells": [
  {
   "cell_type": "markdown",
   "metadata": {},
   "source": [
    "# Projeto de Bloco - Regressão Linear\n",
    "\n",
    "**Giuliano Mantovi**\n",
    "\n",
    "___"
   ]
  },
  {
   "cell_type": "markdown",
   "metadata": {},
   "source": [
    "## Dataset Escolhido\n",
    "\n",
    "O dataset escolhido é **Uber Fares Dataset** da plataforma Kaggle.\n",
    "\n",
    "Link: *https://www.kaggle.com/datasets/yasserh/uber-fares-dataset*"
   ]
  },
  {
   "cell_type": "markdown",
   "metadata": {},
   "source": [
    "## Objetivo\n",
    "\n",
    "O objetivo do projeto é tentar prever o preço de uma corrida no uber através de uma regressão linear com base nas coordenadas geográficas de início e final da viagem e com a data e horário da viagem."
   ]
  },
  {
   "cell_type": "code",
   "execution_count": 3,
   "metadata": {
    "ExecuteTime": {
     "end_time": "2023-12-12T22:25:16.295708188Z",
     "start_time": "2023-12-12T22:25:14.663761836Z"
    }
   },
   "outputs": [],
   "source": [
    "import pandas as pd\n",
    "import pandera as pa"
   ]
  },
  {
   "cell_type": "code",
   "execution_count": 26,
   "metadata": {
    "ExecuteTime": {
     "end_time": "2023-12-13T00:57:51.072972365Z",
     "start_time": "2023-12-13T00:57:37.785296449Z"
    }
   },
   "outputs": [
    {
     "data": {
      "text/plain": "                                   key  fare_amount     pickup_datetime  \\\n24238194 2015-05-07 19:52:06.000000300          7.5 2015-05-07 19:52:06   \n27835199 2009-07-17 20:04:56.000000200          7.7 2009-07-17 20:04:56   \n44984355 2009-08-24 21:45:00.000000610         12.9 2009-08-24 21:45:00   \n25894730 2009-06-26 08:22:21.000000100          5.3 2009-06-26 08:22:21   \n17610152 2014-08-28 17:47:00.000000188         16.0 2014-08-28 17:47:00   \n...                                ...          ...                 ...   \n42598914 2012-10-28 10:49:00.000000530          3.0 2012-10-28 10:49:00   \n16382965 2014-03-14 01:09:00.000000800          7.5 2014-03-14 01:09:00   \n27804658 2009-06-29 00:42:00.000000780         30.9 2009-06-29 00:42:00   \n20259894 2015-05-20 14:56:25.000000400         14.5 2015-05-20 14:56:25   \n11951496 2010-05-15 04:08:00.000000760         14.1 2010-05-15 04:08:00   \n\n          pickup_longitude  pickup_latitude  dropoff_longitude  \\\n24238194        -73.999817        40.738354         -73.999512   \n27835199        -73.994355        40.728225         -73.994710   \n44984355        -74.005043        40.740770         -73.962565   \n25894730        -73.976124        40.790844         -73.965316   \n17610152        -73.925023        40.744085         -73.973082   \n...                    ...              ...                ...   \n42598914        -73.987042        40.739367         -73.986525   \n16382965        -73.984722        40.736837         -74.006672   \n27804658        -73.986017        40.756487         -73.858957   \n20259894        -73.997124        40.725452         -73.983215   \n11951496        -73.984395        40.720077         -73.985508   \n\n          dropoff_latitude  passenger_count  \n24238194         40.723217                1  \n27835199         40.750325                1  \n44984355         40.772647                1  \n25894730         40.803349                3  \n17610152         40.761247                5  \n...                    ...              ...  \n42598914         40.740297                1  \n16382965         40.739620                1  \n27804658         40.692588                2  \n20259894         40.695415                1  \n11951496         40.768793                1  \n\n[200000 rows x 8 columns]",
      "text/html": "<div>\n<style scoped>\n    .dataframe tbody tr th:only-of-type {\n        vertical-align: middle;\n    }\n\n    .dataframe tbody tr th {\n        vertical-align: top;\n    }\n\n    .dataframe thead th {\n        text-align: right;\n    }\n</style>\n<table border=\"1\" class=\"dataframe\">\n  <thead>\n    <tr style=\"text-align: right;\">\n      <th></th>\n      <th>key</th>\n      <th>fare_amount</th>\n      <th>pickup_datetime</th>\n      <th>pickup_longitude</th>\n      <th>pickup_latitude</th>\n      <th>dropoff_longitude</th>\n      <th>dropoff_latitude</th>\n      <th>passenger_count</th>\n    </tr>\n  </thead>\n  <tbody>\n    <tr>\n      <th>24238194</th>\n      <td>2015-05-07 19:52:06.000000300</td>\n      <td>7.5</td>\n      <td>2015-05-07 19:52:06</td>\n      <td>-73.999817</td>\n      <td>40.738354</td>\n      <td>-73.999512</td>\n      <td>40.723217</td>\n      <td>1</td>\n    </tr>\n    <tr>\n      <th>27835199</th>\n      <td>2009-07-17 20:04:56.000000200</td>\n      <td>7.7</td>\n      <td>2009-07-17 20:04:56</td>\n      <td>-73.994355</td>\n      <td>40.728225</td>\n      <td>-73.994710</td>\n      <td>40.750325</td>\n      <td>1</td>\n    </tr>\n    <tr>\n      <th>44984355</th>\n      <td>2009-08-24 21:45:00.000000610</td>\n      <td>12.9</td>\n      <td>2009-08-24 21:45:00</td>\n      <td>-74.005043</td>\n      <td>40.740770</td>\n      <td>-73.962565</td>\n      <td>40.772647</td>\n      <td>1</td>\n    </tr>\n    <tr>\n      <th>25894730</th>\n      <td>2009-06-26 08:22:21.000000100</td>\n      <td>5.3</td>\n      <td>2009-06-26 08:22:21</td>\n      <td>-73.976124</td>\n      <td>40.790844</td>\n      <td>-73.965316</td>\n      <td>40.803349</td>\n      <td>3</td>\n    </tr>\n    <tr>\n      <th>17610152</th>\n      <td>2014-08-28 17:47:00.000000188</td>\n      <td>16.0</td>\n      <td>2014-08-28 17:47:00</td>\n      <td>-73.925023</td>\n      <td>40.744085</td>\n      <td>-73.973082</td>\n      <td>40.761247</td>\n      <td>5</td>\n    </tr>\n    <tr>\n      <th>...</th>\n      <td>...</td>\n      <td>...</td>\n      <td>...</td>\n      <td>...</td>\n      <td>...</td>\n      <td>...</td>\n      <td>...</td>\n      <td>...</td>\n    </tr>\n    <tr>\n      <th>42598914</th>\n      <td>2012-10-28 10:49:00.000000530</td>\n      <td>3.0</td>\n      <td>2012-10-28 10:49:00</td>\n      <td>-73.987042</td>\n      <td>40.739367</td>\n      <td>-73.986525</td>\n      <td>40.740297</td>\n      <td>1</td>\n    </tr>\n    <tr>\n      <th>16382965</th>\n      <td>2014-03-14 01:09:00.000000800</td>\n      <td>7.5</td>\n      <td>2014-03-14 01:09:00</td>\n      <td>-73.984722</td>\n      <td>40.736837</td>\n      <td>-74.006672</td>\n      <td>40.739620</td>\n      <td>1</td>\n    </tr>\n    <tr>\n      <th>27804658</th>\n      <td>2009-06-29 00:42:00.000000780</td>\n      <td>30.9</td>\n      <td>2009-06-29 00:42:00</td>\n      <td>-73.986017</td>\n      <td>40.756487</td>\n      <td>-73.858957</td>\n      <td>40.692588</td>\n      <td>2</td>\n    </tr>\n    <tr>\n      <th>20259894</th>\n      <td>2015-05-20 14:56:25.000000400</td>\n      <td>14.5</td>\n      <td>2015-05-20 14:56:25</td>\n      <td>-73.997124</td>\n      <td>40.725452</td>\n      <td>-73.983215</td>\n      <td>40.695415</td>\n      <td>1</td>\n    </tr>\n    <tr>\n      <th>11951496</th>\n      <td>2010-05-15 04:08:00.000000760</td>\n      <td>14.1</td>\n      <td>2010-05-15 04:08:00</td>\n      <td>-73.984395</td>\n      <td>40.720077</td>\n      <td>-73.985508</td>\n      <td>40.768793</td>\n      <td>1</td>\n    </tr>\n  </tbody>\n</table>\n<p>200000 rows × 8 columns</p>\n</div>"
     },
     "execution_count": 26,
     "metadata": {},
     "output_type": "execute_result"
    }
   ],
   "source": [
    "uber = pd.read_csv(\"uber.csv\", index_col=\"Unnamed: 0\")\n",
    "\n",
    "# Convertendo as colunas com datas para datetime64[ns]\n",
    "uber[\"key\"] = pd.to_datetime(uber[\"key\"])\n",
    "uber[\"pickup_datetime\"] = pd.to_datetime(uber[\"pickup_datetime\"]).dt.tz_localize(None)\n",
    "\n",
    "uber"
   ]
  },
  {
   "cell_type": "markdown",
   "metadata": {},
   "source": [
    "## Validações\n",
    "\n",
    "### Verificações Necessárias\n",
    "\n",
    "- Latitude varia de -90° ate 90°;\n",
    "- Longitude varia de -180° até 180°;\n",
    "- Não deve haver nenhum valor em branco (não preenchido);\n",
    "- O número de passageiros deve ser no mínimo 1;"
   ]
  },
  {
   "cell_type": "code",
   "execution_count": 5,
   "metadata": {
    "ExecuteTime": {
     "end_time": "2023-12-12T22:25:29.952604821Z",
     "start_time": "2023-12-12T22:25:29.948962392Z"
    }
   },
   "outputs": [],
   "source": [
    "# Listando os problemas do dataset\n",
    "\n",
    "latitude_check = pa.Check.between(-90,90)\n",
    "longitude_check = pa.Check.between(-180,180)\n",
    "passenger_count_check = pa.Check.greater_than(0)\n",
    "\n",
    "schema = pa.DataFrameSchema(\n",
    "    {\n",
    "        \"key\": pa.Column(pa.DateTime, nullable=False),\n",
    "        \"fare_amount\": pa.Column(pa.Float, nullable=False),\n",
    "        \"pickup_datetime\": pa.Column(pa.DateTime, nullable=False),\n",
    "        \"pickup_longitude\": pa.Column(pa.Float, nullable=False, checks=[longitude_check]),\n",
    "        \"pickup_latitude\": pa.Column(pa.Float, nullable=False, checks=[latitude_check]),\n",
    "        \"dropoff_longitude\": pa.Column(pa.Float, nullable=False, checks=[longitude_check]),\n",
    "        \"dropoff_latitude\": pa.Column(pa.Float, nullable=False, checks=[latitude_check]),\n",
    "        \"passenger_count\": pa.Column(pa.Int, nullable=False, checks=[passenger_count_check]),\n",
    "    },\n",
    ")"
   ]
  },
  {
   "cell_type": "code",
   "execution_count": 6,
   "metadata": {
    "ExecuteTime": {
     "end_time": "2023-12-12T22:25:30.263722665Z",
     "start_time": "2023-12-12T22:25:29.951851787Z"
    }
   },
   "outputs": [
    {
     "name": "stdout",
     "output_type": "stream",
     "text": [
      "Falhas nos dados:\n",
      "Schema None: A total of 7 schema errors were found.\n",
      "\n",
      "Error Counts\n",
      "------------\n",
      "- SchemaErrorReason.SCHEMA_COMPONENT_CHECK: 7\n",
      "\n",
      "Schema Error Summary\n",
      "--------------------\n",
      "                                                                                                                             failure_cases  n_failure_cases\n",
      "schema_context column            check                                                                                                                     \n",
      "Column         dropoff_latitude  in_range(-90, 90)                                     [872.6976279999999, -881.9855130000001, 493.533332]                3\n",
      "                                 not_nullable                                                                                        [nan]                1\n",
      "               dropoff_longitude in_range(-180, 180)                                  [-737.9166650000001, -3356.6663, 1153.5726029999998]                3\n",
      "                                 not_nullable                                                                                        [nan]                1\n",
      "               passenger_count   greater_than(0)                                                                                     [0.0]                1\n",
      "               pickup_latitude   in_range(-90, 90)                                      [404.433332, 401.066667, 1644.421482, 1292.016128]                4\n",
      "               pickup_longitude  in_range(-180, 180)  [-748.016667, -735.2, -1340.64841, -736.216667, -768.55, -735.4333320000001, -736.4]                7\n",
      "\n",
      "Usage Tip\n",
      "---------\n",
      "\n",
      "Directly inspect all errors by catching the exception:\n",
      "\n",
      "```\n",
      "try:\n",
      "    schema.validate(dataframe, lazy=True)\n",
      "except SchemaErrors as err:\n",
      "    err.failure_cases  # dataframe of schema errors\n",
      "    err.data  # invalid dataframe\n",
      "```\n"
     ]
    }
   ],
   "source": [
    "try:\n",
    "    schema.validate(uber, lazy=True)\n",
    "except pa.errors.SchemaErrors as err:\n",
    "    print(\"Falhas nos dados:\")\n",
    "    print(err)"
   ]
  },
  {
   "cell_type": "markdown",
   "metadata": {},
   "source": [
    "### Problemas Identificados:\n",
    "\n",
    "- Três linhas com a latitude de chegada inválida;\n",
    "- Uma linha sem a latitude de chegada;\n",
    "- Três linhas com a longitude de chegada inválida;\n",
    "- Uma linha sem a longitude de chegada;\n",
    "- Uma linha com o número de passageiros igual a 0;\n",
    "- Quatro linhas com a latitude de partida inválida;\n",
    "- Sete linhas com a longitude de partida inválida;\n",
    "\n",
    "### Solução\n",
    "\n",
    "- As latitudes e longitudes serão usadas para calcular a distância da viagem então deve-se eliminar as linhas com problemas nesses campos.\n",
    "- Uma corrida de uber deve ter pelo menos um passageiro portanto desconsidera-se a viagem feita sem passageiros."
   ]
  },
  {
   "cell_type": "code",
   "execution_count": 7,
   "metadata": {
    "ExecuteTime": {
     "end_time": "2023-12-12T22:25:30.403661268Z",
     "start_time": "2023-12-12T22:25:30.268879479Z"
    }
   },
   "outputs": [],
   "source": [
    "# Copiando o schema para eliminar as linhas com problema\n",
    "\n",
    "latitude_check = pa.Check.between(-90,90)\n",
    "longitude_check = pa.Check.between(-180,180)\n",
    "passenger_count_check = pa.Check.greater_than(0)\n",
    "\n",
    "schema_drop = pa.DataFrameSchema(\n",
    "    {\n",
    "        \"key\": pa.Column(pa.DateTime, nullable=False),\n",
    "        \"fare_amount\": pa.Column(pa.Float, nullable=False),\n",
    "        \"pickup_datetime\": pa.Column(pa.DateTime, nullable=False),\n",
    "        \"pickup_longitude\": pa.Column(pa.Float, nullable=False, checks=[longitude_check]),\n",
    "        \"pickup_latitude\": pa.Column(pa.Float, nullable=False, checks=[latitude_check]),\n",
    "        \"dropoff_longitude\": pa.Column(pa.Float, nullable=False, checks=[longitude_check]),\n",
    "        \"dropoff_latitude\": pa.Column(pa.Float, nullable=False, checks=[latitude_check]),\n",
    "        \"passenger_count\": pa.Column(pa.Int, nullable=False, checks=[passenger_count_check]),\n",
    "    },\n",
    "    drop_invalid_rows=True,\n",
    ")\n",
    "\n",
    "uber_valid = schema_drop.validate(uber, lazy=True)"
   ]
  },
  {
   "cell_type": "code",
   "execution_count": 8,
   "metadata": {
    "ExecuteTime": {
     "end_time": "2023-12-12T22:25:30.423115451Z",
     "start_time": "2023-12-12T22:25:30.412732436Z"
    }
   },
   "outputs": [
    {
     "data": {
      "text/plain": "                                   key  fare_amount     pickup_datetime  \\\n24238194 2015-05-07 19:52:06.000000300          7.5 2015-05-07 19:52:06   \n27835199 2009-07-17 20:04:56.000000200          7.7 2009-07-17 20:04:56   \n44984355 2009-08-24 21:45:00.000000610         12.9 2009-08-24 21:45:00   \n25894730 2009-06-26 08:22:21.000000100          5.3 2009-06-26 08:22:21   \n17610152 2014-08-28 17:47:00.000000188         16.0 2014-08-28 17:47:00   \n...                                ...          ...                 ...   \n42598914 2012-10-28 10:49:00.000000530          3.0 2012-10-28 10:49:00   \n16382965 2014-03-14 01:09:00.000000800          7.5 2014-03-14 01:09:00   \n27804658 2009-06-29 00:42:00.000000780         30.9 2009-06-29 00:42:00   \n20259894 2015-05-20 14:56:25.000000400         14.5 2015-05-20 14:56:25   \n11951496 2010-05-15 04:08:00.000000760         14.1 2010-05-15 04:08:00   \n\n          pickup_longitude  pickup_latitude  dropoff_longitude  \\\n24238194        -73.999817        40.738354         -73.999512   \n27835199        -73.994355        40.728225         -73.994710   \n44984355        -74.005043        40.740770         -73.962565   \n25894730        -73.976124        40.790844         -73.965316   \n17610152        -73.925023        40.744085         -73.973082   \n...                    ...              ...                ...   \n42598914        -73.987042        40.739367         -73.986525   \n16382965        -73.984722        40.736837         -74.006672   \n27804658        -73.986017        40.756487         -73.858957   \n20259894        -73.997124        40.725452         -73.983215   \n11951496        -73.984395        40.720077         -73.985508   \n\n          dropoff_latitude  passenger_count  \n24238194         40.723217                1  \n27835199         40.750325                1  \n44984355         40.772647                1  \n25894730         40.803349                3  \n17610152         40.761247                5  \n...                    ...              ...  \n42598914         40.740297                1  \n16382965         40.739620                1  \n27804658         40.692588                2  \n20259894         40.695415                1  \n11951496         40.768793                1  \n\n[199279 rows x 8 columns]",
      "text/html": "<div>\n<style scoped>\n    .dataframe tbody tr th:only-of-type {\n        vertical-align: middle;\n    }\n\n    .dataframe tbody tr th {\n        vertical-align: top;\n    }\n\n    .dataframe thead th {\n        text-align: right;\n    }\n</style>\n<table border=\"1\" class=\"dataframe\">\n  <thead>\n    <tr style=\"text-align: right;\">\n      <th></th>\n      <th>key</th>\n      <th>fare_amount</th>\n      <th>pickup_datetime</th>\n      <th>pickup_longitude</th>\n      <th>pickup_latitude</th>\n      <th>dropoff_longitude</th>\n      <th>dropoff_latitude</th>\n      <th>passenger_count</th>\n    </tr>\n  </thead>\n  <tbody>\n    <tr>\n      <th>24238194</th>\n      <td>2015-05-07 19:52:06.000000300</td>\n      <td>7.5</td>\n      <td>2015-05-07 19:52:06</td>\n      <td>-73.999817</td>\n      <td>40.738354</td>\n      <td>-73.999512</td>\n      <td>40.723217</td>\n      <td>1</td>\n    </tr>\n    <tr>\n      <th>27835199</th>\n      <td>2009-07-17 20:04:56.000000200</td>\n      <td>7.7</td>\n      <td>2009-07-17 20:04:56</td>\n      <td>-73.994355</td>\n      <td>40.728225</td>\n      <td>-73.994710</td>\n      <td>40.750325</td>\n      <td>1</td>\n    </tr>\n    <tr>\n      <th>44984355</th>\n      <td>2009-08-24 21:45:00.000000610</td>\n      <td>12.9</td>\n      <td>2009-08-24 21:45:00</td>\n      <td>-74.005043</td>\n      <td>40.740770</td>\n      <td>-73.962565</td>\n      <td>40.772647</td>\n      <td>1</td>\n    </tr>\n    <tr>\n      <th>25894730</th>\n      <td>2009-06-26 08:22:21.000000100</td>\n      <td>5.3</td>\n      <td>2009-06-26 08:22:21</td>\n      <td>-73.976124</td>\n      <td>40.790844</td>\n      <td>-73.965316</td>\n      <td>40.803349</td>\n      <td>3</td>\n    </tr>\n    <tr>\n      <th>17610152</th>\n      <td>2014-08-28 17:47:00.000000188</td>\n      <td>16.0</td>\n      <td>2014-08-28 17:47:00</td>\n      <td>-73.925023</td>\n      <td>40.744085</td>\n      <td>-73.973082</td>\n      <td>40.761247</td>\n      <td>5</td>\n    </tr>\n    <tr>\n      <th>...</th>\n      <td>...</td>\n      <td>...</td>\n      <td>...</td>\n      <td>...</td>\n      <td>...</td>\n      <td>...</td>\n      <td>...</td>\n      <td>...</td>\n    </tr>\n    <tr>\n      <th>42598914</th>\n      <td>2012-10-28 10:49:00.000000530</td>\n      <td>3.0</td>\n      <td>2012-10-28 10:49:00</td>\n      <td>-73.987042</td>\n      <td>40.739367</td>\n      <td>-73.986525</td>\n      <td>40.740297</td>\n      <td>1</td>\n    </tr>\n    <tr>\n      <th>16382965</th>\n      <td>2014-03-14 01:09:00.000000800</td>\n      <td>7.5</td>\n      <td>2014-03-14 01:09:00</td>\n      <td>-73.984722</td>\n      <td>40.736837</td>\n      <td>-74.006672</td>\n      <td>40.739620</td>\n      <td>1</td>\n    </tr>\n    <tr>\n      <th>27804658</th>\n      <td>2009-06-29 00:42:00.000000780</td>\n      <td>30.9</td>\n      <td>2009-06-29 00:42:00</td>\n      <td>-73.986017</td>\n      <td>40.756487</td>\n      <td>-73.858957</td>\n      <td>40.692588</td>\n      <td>2</td>\n    </tr>\n    <tr>\n      <th>20259894</th>\n      <td>2015-05-20 14:56:25.000000400</td>\n      <td>14.5</td>\n      <td>2015-05-20 14:56:25</td>\n      <td>-73.997124</td>\n      <td>40.725452</td>\n      <td>-73.983215</td>\n      <td>40.695415</td>\n      <td>1</td>\n    </tr>\n    <tr>\n      <th>11951496</th>\n      <td>2010-05-15 04:08:00.000000760</td>\n      <td>14.1</td>\n      <td>2010-05-15 04:08:00</td>\n      <td>-73.984395</td>\n      <td>40.720077</td>\n      <td>-73.985508</td>\n      <td>40.768793</td>\n      <td>1</td>\n    </tr>\n  </tbody>\n</table>\n<p>199279 rows × 8 columns</p>\n</div>"
     },
     "execution_count": 8,
     "metadata": {},
     "output_type": "execute_result"
    }
   ],
   "source": [
    "uber_valid  # Dataframe apenas com as linhas válidas"
   ]
  },
  {
   "cell_type": "markdown",
   "source": [
    "## Calculando a Distância Percorrida"
   ],
   "metadata": {
    "collapsed": false
   }
  },
  {
   "cell_type": "code",
   "execution_count": 9,
   "outputs": [],
   "source": [
    "from geopy import distance\n",
    "def calculate_distance(start,end):\n",
    "    return  distance.distance(start,end).km\n",
    "\n",
    "distancias = []\n",
    "for index, row in uber_valid.iterrows():\n",
    "    start = (row[\"pickup_latitude\"],row[\"pickup_longitude\"])\n",
    "    end = (row[\"dropoff_latitude\"],row[\"dropoff_longitude\"])\n",
    "    \n",
    "    distancia = calculate_distance(start, end)\n",
    "    \n",
    "    distancias.append(distancia)"
   ],
   "metadata": {
    "collapsed": false,
    "ExecuteTime": {
     "end_time": "2023-12-12T22:25:57.666424854Z",
     "start_time": "2023-12-12T22:25:30.420863018Z"
    }
   }
  },
  {
   "cell_type": "code",
   "execution_count": 10,
   "outputs": [],
   "source": [
    "uber_valid[\"distance\"] = distancias"
   ],
   "metadata": {
    "collapsed": false,
    "ExecuteTime": {
     "end_time": "2023-12-12T22:25:57.686438323Z",
     "start_time": "2023-12-12T22:25:57.668556257Z"
    }
   }
  },
  {
   "cell_type": "markdown",
   "source": [
    "### Avaliando as distâncias calculadas\n",
    "\n",
    "Várias linhas possuiam erro na latitude ou longitude fazendo com que a viagem fosse de milhares de quilometros. Para evitar o problema consideraremos apenas as viagens menores de 100 km"
   ],
   "metadata": {
    "collapsed": false
   }
  },
  {
   "cell_type": "code",
   "execution_count": 11,
   "outputs": [
    {
     "data": {
      "text/plain": "count    199279.000000\nmean         20.408857\nstd         377.863594\nmin           0.000000\n25%           1.215640\n50%           2.121956\n75%           3.875149\nmax        8783.593498\nName: distance, dtype: float64"
     },
     "execution_count": 11,
     "metadata": {},
     "output_type": "execute_result"
    }
   ],
   "source": [
    "uber_valid[\"distance\"].describe()"
   ],
   "metadata": {
    "collapsed": false,
    "ExecuteTime": {
     "end_time": "2023-12-12T22:25:57.801625877Z",
     "start_time": "2023-12-12T22:25:57.686724142Z"
    }
   }
  },
  {
   "cell_type": "code",
   "execution_count": 12,
   "outputs": [
    {
     "data": {
      "text/plain": "         fare_amount  pickup_longitude  pickup_latitude  dropoff_longitude  \\\ncount  198824.000000     198824.000000    198824.000000      198824.000000   \nmean       11.358687        -72.581706        39.957327         -72.580767   \nstd         9.893926         10.175163         6.005480          10.175063   \nmin       -52.000000        -75.387785       -74.015515         -75.417737   \n25%         6.000000        -73.992074        40.734878         -73.991418   \n50%         8.500000        -73.981843        40.752622         -73.980119   \n75%        12.500000        -73.967240        40.767172         -73.963760   \nmax       499.000000         40.808425        45.031653          40.831932   \n\n       dropoff_latitude  passenger_count       distance  \ncount     198824.000000    198824.000000  198824.000000  \nmean          39.957627         1.690596       3.268800  \nstd            6.005656         1.384949       3.722594  \nmin          -74.015750         1.000000       0.000000  \n25%           40.733910         1.000000       1.213793  \n50%           40.753071         1.000000       2.116867  \n75%           40.768017         2.000000       3.855984  \nmax           45.031598       208.000000      99.232379  ",
      "text/html": "<div>\n<style scoped>\n    .dataframe tbody tr th:only-of-type {\n        vertical-align: middle;\n    }\n\n    .dataframe tbody tr th {\n        vertical-align: top;\n    }\n\n    .dataframe thead th {\n        text-align: right;\n    }\n</style>\n<table border=\"1\" class=\"dataframe\">\n  <thead>\n    <tr style=\"text-align: right;\">\n      <th></th>\n      <th>fare_amount</th>\n      <th>pickup_longitude</th>\n      <th>pickup_latitude</th>\n      <th>dropoff_longitude</th>\n      <th>dropoff_latitude</th>\n      <th>passenger_count</th>\n      <th>distance</th>\n    </tr>\n  </thead>\n  <tbody>\n    <tr>\n      <th>count</th>\n      <td>198824.000000</td>\n      <td>198824.000000</td>\n      <td>198824.000000</td>\n      <td>198824.000000</td>\n      <td>198824.000000</td>\n      <td>198824.000000</td>\n      <td>198824.000000</td>\n    </tr>\n    <tr>\n      <th>mean</th>\n      <td>11.358687</td>\n      <td>-72.581706</td>\n      <td>39.957327</td>\n      <td>-72.580767</td>\n      <td>39.957627</td>\n      <td>1.690596</td>\n      <td>3.268800</td>\n    </tr>\n    <tr>\n      <th>std</th>\n      <td>9.893926</td>\n      <td>10.175163</td>\n      <td>6.005480</td>\n      <td>10.175063</td>\n      <td>6.005656</td>\n      <td>1.384949</td>\n      <td>3.722594</td>\n    </tr>\n    <tr>\n      <th>min</th>\n      <td>-52.000000</td>\n      <td>-75.387785</td>\n      <td>-74.015515</td>\n      <td>-75.417737</td>\n      <td>-74.015750</td>\n      <td>1.000000</td>\n      <td>0.000000</td>\n    </tr>\n    <tr>\n      <th>25%</th>\n      <td>6.000000</td>\n      <td>-73.992074</td>\n      <td>40.734878</td>\n      <td>-73.991418</td>\n      <td>40.733910</td>\n      <td>1.000000</td>\n      <td>1.213793</td>\n    </tr>\n    <tr>\n      <th>50%</th>\n      <td>8.500000</td>\n      <td>-73.981843</td>\n      <td>40.752622</td>\n      <td>-73.980119</td>\n      <td>40.753071</td>\n      <td>1.000000</td>\n      <td>2.116867</td>\n    </tr>\n    <tr>\n      <th>75%</th>\n      <td>12.500000</td>\n      <td>-73.967240</td>\n      <td>40.767172</td>\n      <td>-73.963760</td>\n      <td>40.768017</td>\n      <td>2.000000</td>\n      <td>3.855984</td>\n    </tr>\n    <tr>\n      <th>max</th>\n      <td>499.000000</td>\n      <td>40.808425</td>\n      <td>45.031653</td>\n      <td>40.831932</td>\n      <td>45.031598</td>\n      <td>208.000000</td>\n      <td>99.232379</td>\n    </tr>\n  </tbody>\n</table>\n</div>"
     },
     "execution_count": 12,
     "metadata": {},
     "output_type": "execute_result"
    }
   ],
   "source": [
    "uber_valid[uber_valid[\"distance\"] > 100]  # Distâncias muito grandes devido à falha no registro de latitude e longitude.\n",
    "\n",
    "uber_100_km = uber_valid[uber_valid[\"distance\"] <= 100]\n",
    "uber_100_km.describe()"
   ],
   "metadata": {
    "collapsed": false,
    "ExecuteTime": {
     "end_time": "2023-12-12T22:25:57.911899764Z",
     "start_time": "2023-12-12T22:25:57.803717896Z"
    }
   }
  },
  {
   "cell_type": "markdown",
   "source": [
    "## Regressão Linear"
   ],
   "metadata": {
    "collapsed": false
   }
  },
  {
   "cell_type": "code",
   "execution_count": 13,
   "outputs": [],
   "source": [
    "import sklearn.model_selection as ms\n",
    "import sklearn.linear_model as lm\n",
    "import matplotlib.pyplot as plt\n",
    "import seaborn as sns\n",
    "from sklearn.model_selection import train_test_split"
   ],
   "metadata": {
    "collapsed": false,
    "ExecuteTime": {
     "end_time": "2023-12-12T22:25:58.030700994Z",
     "start_time": "2023-12-12T22:25:57.913076723Z"
    }
   }
  },
  {
   "cell_type": "code",
   "execution_count": 14,
   "outputs": [
    {
     "name": "stderr",
     "output_type": "stream",
     "text": [
      "/tmp/ipykernel_8044/1645558289.py:2: FutureWarning: The default value of numeric_only in DataFrame.corr is deprecated. In a future version, it will default to False. Select only valid columns or specify the value of numeric_only to silence this warning.\n",
      "  corr_matrix = uber_100_km.corr()\n"
     ]
    },
    {
     "data": {
      "text/plain": "<Figure size 700x700 with 2 Axes>",
      "image/png": "[encoded data removed]"
     },
     "metadata": {},
     "output_type": "display_data"
    }
   ],
   "source": [
    "### Matriz de correlacao\n",
    "corr_matrix = uber_100_km.corr()\n",
    "\n",
    "fig, axs = plt.subplots(figsize=(7,7))\n",
    "\n",
    "axs = sns.heatmap(\n",
    "    corr_matrix,\n",
    "    annot=True,\n",
    "    fmt=\".1f\",\n",
    "    linewidths=0.5,\n",
    "    cmap=\"YlOrRd\",\n",
    ")\n"
   ],
   "metadata": {
    "collapsed": false,
    "ExecuteTime": {
     "end_time": "2023-12-12T22:25:59.021622721Z",
     "start_time": "2023-12-12T22:25:57.958339163Z"
    }
   }
  },
  {
   "cell_type": "markdown",
   "source": [
    "Única variável que se correlaciona bem com o preço da corrida é a distância"
   ],
   "metadata": {
    "collapsed": false
   }
  },
  {
   "cell_type": "code",
   "execution_count": 16,
   "outputs": [],
   "source": [
    "# Separando os conjuntos de treino e teste\n",
    "x = uber_100_km[[\"pickup_longitude\", \"pickup_latitude\", \"dropoff_longitude\", \"dropoff_latitude\", \"passenger_count\", \"distance\"]]\n",
    "y = uber_100_km[\"fare_amount\"]\n",
    "\n",
    "x_train, x_test, y_train, y_test = train_test_split(x,y,test_size=0.25)"
   ],
   "metadata": {
    "collapsed": false,
    "ExecuteTime": {
     "end_time": "2023-12-12T22:26:46.486734943Z",
     "start_time": "2023-12-12T22:26:46.425284165Z"
    }
   }
  },
  {
   "cell_type": "code",
   "execution_count": 19,
   "outputs": [],
   "source": [
    "from sklearn.linear_model import LinearRegression\n",
    "from sklearn.metrics import mean_squared_error, mean_absolute_error\n",
    "\n",
    "regressor = LinearRegression()\n",
    "regressor.fit(x_train,y_train)  # Treinando o modelo\n",
    "predict = regressor.predict(x_test) # Fazendo predições"
   ],
   "metadata": {
    "collapsed": false,
    "ExecuteTime": {
     "end_time": "2023-12-12T22:31:35.670986665Z",
     "start_time": "2023-12-12T22:31:35.592747541Z"
    }
   }
  },
  {
   "cell_type": "code",
   "execution_count": 21,
   "outputs": [
    {
     "name": "stdout",
     "output_type": "stream",
     "text": [
      "Erro MSE: 33.324555100643124\n",
      "erro MAE: 2.5489750426924362\n"
     ]
    }
   ],
   "source": [
    "mse = mean_squared_error(y_test, predict)\n",
    "mae = mean_absolute_error(y_test, predict)\n",
    "\n",
    "print(f\"Erro MSE: {mse}\")\n",
    "print(f\"erro MAE: {mae}\")"
   ],
   "metadata": {
    "collapsed": false,
    "ExecuteTime": {
     "end_time": "2023-12-12T22:37:02.696212511Z",
     "start_time": "2023-12-12T22:37:02.624180882Z"
    }
   }
  },
  {
   "cell_type": "markdown",
   "source": [
    "## Streamlit App"
   ],
   "metadata": {
    "collapsed": false
   }
  },
  {
   "cell_type": "code",
   "execution_count": 25,
   "outputs": [],
   "source": [
    "# Exportando os datasets\n",
    "uber_valid.to_csv(\"uber_export.csv\")\n",
    "uber_100_km.to_csv(\"uber_100_km_export.csv\")"
   ],
   "metadata": {
    "collapsed": false,
    "ExecuteTime": {
     "end_time": "2023-12-13T00:52:58.694434274Z",
     "start_time": "2023-12-13T00:52:55.699606348Z"
    }
   }
  }
 ],
 "metadata": {
  "kernelspec": {
   "display_name": "base",
   "language": "python",
   "name": "python3"
  },
  "language_info": {
   "codemirror_mode": {
    "name": "ipython",
    "version": 3
   },
   "file_extension": ".py",
   "mimetype": "text/x-python",
   "name": "python",
   "nbconvert_exporter": "python",
   "pygments_lexer": "ipython3",
   "version": "3.11.4"
  }
 },
 "nbformat": 4,
 "nbformat_minor": 2
}
